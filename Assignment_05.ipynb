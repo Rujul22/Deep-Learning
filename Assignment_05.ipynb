{
 "cells": [
  {
   "cell_type": "code",
   "execution_count": null,
   "id": "408fba12",
   "metadata": {},
   "outputs": [],
   "source": [
    "# Assignment No- 05\n",
    "# Problem Statement- Implement the Continuous Bag of Words (CBOW) Model. Stages can be:\n",
    "# a. Data preparation\n",
    "# b. Generate training data\n",
    "# c. Train model\n",
    "# d. Output "
   ]
  },
  {
   "cell_type": "markdown",
   "id": "5642f245",
   "metadata": {},
   "source": [
    " # Word To Vector"
   ]
  },
  {
   "cell_type": "code",
   "execution_count": null,
   "id": "e1af1a40",
   "metadata": {},
   "outputs": [],
   "source": [
    "#pip install gensim\n",
    "#pip install gensim==3.8.3"
   ]
  },
  {
   "cell_type": "code",
   "execution_count": 4,
   "id": "7408e53d",
   "metadata": {},
   "outputs": [],
   "source": [
    "from gensim.models import Word2Vec\n",
    "import nltk\n",
    "from nltk.corpus import brown"
   ]
  },
  {
   "cell_type": "code",
   "execution_count": 5,
   "id": "235b5153",
   "metadata": {},
   "outputs": [
    {
     "name": "stderr",
     "output_type": "stream",
     "text": [
      "[nltk_data] Downloading package brown to\n",
      "[nltk_data]     C:\\Users\\HP\\AppData\\Roaming\\nltk_data...\n",
      "[nltk_data]   Package brown is already up-to-date!\n"
     ]
    }
   ],
   "source": [
    "nltk.download('brown')\n",
    "data=brown.sents()"
   ]
  },
  {
   "cell_type": "code",
   "execution_count": 8,
   "id": "0be5e9d9",
   "metadata": {},
   "outputs": [
    {
     "name": "stdout",
     "output_type": "stream",
     "text": [
      "[['The', 'Fulton', 'County', 'Grand', 'Jury', 'said', 'Friday', 'an', 'investigation', 'of', \"Atlanta's\", 'recent', 'primary', 'election', 'produced', '``', 'no', 'evidence', \"''\", 'that', 'any', 'irregularities', 'took', 'place', '.'], ['The', 'jury', 'further', 'said', 'in', 'term-end', 'presentments', 'that', 'the', 'City', 'Executive', 'Committee', ',', 'which', 'had', 'over-all', 'charge', 'of', 'the', 'election', ',', '``', 'deserves', 'the', 'praise', 'and', 'thanks', 'of', 'the', 'City', 'of', 'Atlanta', \"''\", 'for', 'the', 'manner', 'in', 'which', 'the', 'election', 'was', 'conducted', '.'], ...]\n",
      "Similarity between woman and man:{similarity}\n"
     ]
    }
   ],
   "source": [
    "model=Word2Vec(data, min_count =1,window=5)\n",
    "model.train(data,total_examples=len(data),epochs=5)\n",
    "print(data)\n",
    "word_vectors=model.wv\n",
    "similarity=word_vectors.similarity('woman','man')\n",
    "print(\"Similarity between woman and man:{similarity}\")"
   ]
  },
  {
   "cell_type": "markdown",
   "id": "53e013ff",
   "metadata": {},
   "source": [
    "# one hot encoding"
   ]
  },
  {
   "cell_type": "code",
   "execution_count": null,
   "id": "2348959b",
   "metadata": {},
   "outputs": [],
   "source": [
    "import pandas as pd \n",
    "df = pd.DataFrame({\"col1\": [\"red\", \"Sun\", \"Moon\", \"Earth\", \"Moon\", \"Venus\"]})\n",
    "print(\"The original data\\n\")\n",
    "print(df)\n",
    "print(\"___________________________________________________________________\\n\")\n",
    "df_new = pd.get_dummies(df, columns=[\"col1\"], prefix=\"Planet\")\n",
    "print(f\"The transform data using get_dummies \\n\\n {df_new}\")"
   ]
  },
  {
   "cell_type": "markdown",
   "id": "3f54def6",
   "metadata": {},
   "source": [
    "# NLP"
   ]
  },
  {
   "cell_type": "code",
   "execution_count": null,
   "id": "39be062f",
   "metadata": {},
   "outputs": [],
   "source": [
    "import tensorflow as tf\n",
    "from tensorflow.keras.models import Sequential\n",
    "from tensorflow.keras.layers import Embedding, LSTM, Dense\n",
    "from tensorflow.keras.preprocessing.text import Tokenizer\n",
    "from tensorflow.keras.preprocessing.sequence import pad_sequences\n",
    "import numpy as np\n",
    "import regex as re"
   ]
  },
  {
   "cell_type": "code",
   "execution_count": null,
   "id": "bfa966ea",
   "metadata": {},
   "outputs": [],
   "source": [
    "def file_to_sentence_list(file_path):\n",
    "\twith open(file_path, 'r') as file:\n",
    "\t\ttext = file.read()\n",
    "\tsentences = [sentence.strip() for sentence in re.split(r'(?<=[.!?])\\s+', text) if sentence.strip()]\n",
    "\treturn sentences\n",
    "\n",
    "file_path = r'pizza.txt'\n",
    "text_data = file_to_sentence_list(file_path)\n",
    "\n",
    "# Tokenize the text data\n",
    "tokenizer = Tokenizer()\n",
    "tokenizer.fit_on_texts(text_data)\n",
    "total_words = len(tokenizer.word_index) + 1\n",
    "\n",
    "# Create input sequences\n",
    "input_sequences = []\n",
    "for line in text_data:\n",
    "\ttoken_list = tokenizer.texts_to_sequences([line])[0]\n",
    "\tfor i in range(1, len(token_list)):\n",
    "\t\tn_gram_sequence = token_list[:i+1]\n",
    "\t\tinput_sequences.append(n_gram_sequence)\n",
    "\n",
    "# Pad sequences and split into predictors and label\n",
    "max_sequence_len = max([len(seq) for seq in input_sequences])\n",
    "input_sequences = np.array(pad_sequences(\n",
    "\tinput_sequences, maxlen=max_sequence_len, padding='pre'))\n",
    "X, y = input_sequences[:, :-1], input_sequences[:, -1]\n",
    "\n",
    "# Convert target data to one-hot encoding\n",
    "y = tf.keras.utils.to_categorical(y, num_classes=total_words)"
   ]
  },
  {
   "cell_type": "code",
   "execution_count": null,
   "id": "f3edf562",
   "metadata": {},
   "outputs": [],
   "source": [
    "# Define the model\n",
    "model = Sequential()\n",
    "model.add(Embedding(total_words, 10,input_length=max_sequence_len-1))\n",
    "model.add(LSTM(128))\n",
    "model.add(Dense(total_words, activation='softmax'))\n",
    "model.compile(loss='categorical_crossentropy',optimizer='adam', metrics=['accuracy']) \n",
    "# Train the model\n",
    "model.fit(X, y, epochs=150, verbose=1)"
   ]
  },
  {
   "cell_type": "code",
   "execution_count": null,
   "id": "d4e87d8b",
   "metadata": {},
   "outputs": [],
   "source": [
    "# Generate next word predictions\n",
    "seed_text = \"Pizza\"\n",
    "next_words = 5\n",
    "\n",
    "for _ in range(next_words):\n",
    "\ttoken_list = tokenizer.texts_to_sequences([seed_text])[0]\n",
    "\ttoken_list = pad_sequences(\n",
    "\t\t[token_list], maxlen=max_sequence_len-1, padding='pre')\n",
    "\tpredicted_probs = model.predict(token_list)\n",
    "\tpredicted_word = tokenizer.index_word[np.argmax(predicted_probs)]\n",
    "\tseed_text += \" \" + predicted_word\n",
    "\n",
    "print(\"Next predicted words:\", seed_text)\n",
    "\n"
   ]
  }
 ],
 "metadata": {
  "kernelspec": {
   "display_name": "Python 3 (ipykernel)",
   "language": "python",
   "name": "python3"
  },
  "language_info": {
   "codemirror_mode": {
    "name": "ipython",
    "version": 3
   },
   "file_extension": ".py",
   "mimetype": "text/x-python",
   "name": "python",
   "nbconvert_exporter": "python",
   "pygments_lexer": "ipython3",
   "version": "3.9.12"
  }
 },
 "nbformat": 4,
 "nbformat_minor": 5
}
