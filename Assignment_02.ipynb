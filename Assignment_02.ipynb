{
 "cells": [
  {
   "cell_type": "code",
   "execution_count": 1,
   "id": "2144576d",
   "metadata": {},
   "outputs": [],
   "source": [
    "# Assignment No- 02\n",
    "# Problem Statement-Implementing Feedforward neural networks with Keras and TensorFlow\n",
    "# a. Import the necessary packages\n",
    "# b. Load the training and testing data (MNIST/CIFAR10)\n",
    "# c. Define the network architecture using Keras\n",
    "# d. Train the model using SGD\n",
    "# e. Evaluate the network\n",
    "# f. Plot the training loss and accuracy"
   ]
  },
  {
   "cell_type": "code",
   "execution_count": 2,
   "id": "91caf1e6",
   "metadata": {},
   "outputs": [],
   "source": [
    "import tensorflow as tf # tensorflow is an end-to-end open source platform for machine learning"
   ]
  },
  {
   "cell_type": "code",
   "execution_count": 3,
   "id": "8759e4a0",
   "metadata": {},
   "outputs": [],
   "source": [
    "from tensorflow import keras # Keras is a high-level neural network library that runs on top of TensorFlow\n",
    "#Both provide high-level APIs used for easily building and training models\n",
    "import matplotlib.pyplot as plt\n",
    "import numpy as np #very useful for performing logical and mathematical calculations on arrays and matrices"
   ]
  },
  {
   "cell_type": "code",
   "execution_count": 4,
   "id": "818f37c9",
   "metadata": {},
   "outputs": [],
   "source": [
    "data =tf.keras.datasets.mnist#dataset consists of handwritten digits from 0 to 9\n",
    "#it provides a pavement for testing image processing systems\n",
    "#60,000 training images and 10,000 testing images\n",
    "from tensorflow.keras.optimizers import SGD\n",
    "#Stochastic Gradient Descent (SGD) is used for optimizing machine learning models"
   ]
  },
  {
   "cell_type": "code",
   "execution_count": 5,
   "id": "6d0417e3",
   "metadata": {},
   "outputs": [],
   "source": [
    "(x_train,y_train),(x_test,y_test)=data.load_data()  # x is attribute and y is classes"
   ]
  },
  {
   "cell_type": "code",
   "execution_count": 6,
   "id": "e640115e",
   "metadata": {},
   "outputs": [
    {
     "data": {
      "text/plain": [
       "(10000, 28, 28)"
      ]
     },
     "execution_count": 6,
     "metadata": {},
     "output_type": "execute_result"
    }
   ],
   "source": [
    "x_test.shape # show the data set of test 28 pixel , 28 pixel   picture  "
   ]
  },
  {
   "cell_type": "code",
   "execution_count": 7,
   "id": "48fe8a5b",
   "metadata": {},
   "outputs": [
    {
     "data": {
      "text/plain": [
       "(60000, 28, 28)"
      ]
     },
     "execution_count": 7,
     "metadata": {},
     "output_type": "execute_result"
    }
   ],
   "source": [
    "x_train.shape  #show the data set of training  28 pixel , 28 pixel  picture "
   ]
  },
  {
   "cell_type": "code",
   "execution_count": null,
   "id": "06f2c161",
   "metadata": {},
   "outputs": [],
   "source": [
    "# To perform Machine Learning, it is important to convert all the values from 0 to 255 for every pixel to a range of values from 0 to 1. \n",
    "# The simplest way is to divide the value of every pixel by 255 to get the values in the range of 0 to 1"
   ]
  },
  {
   "cell_type": "code",
   "execution_count": 8,
   "id": "b8d73b43",
   "metadata": {},
   "outputs": [],
   "source": [
    "x_train,x_test =x_train/255,x_test/255 # Convert all values between 0 to 1 "
   ]
  },
  {
   "cell_type": "code",
   "execution_count": 9,
   "id": "7d123c3e",
   "metadata": {},
   "outputs": [],
   "source": [
    "import tensorflow as tf\n",
    "model=tf.keras.models.Sequential([\n",
    "    tf.keras.layers.Flatten(input_shape=(28,28)), # convert 2D into  1D\n",
    "    tf.keras.layers.Dense(150,activation='relu'),  #  Dense Means Fully connected Network in Hidden Layer\n",
    "    tf.keras.layers.Dense(10,activation='softmax')]) # classifying into 10 classes output have TEN neuron"
   ]
  },
  {
   "cell_type": "code",
   "execution_count": 10,
   "id": "1a41fb02",
   "metadata": {},
   "outputs": [],
   "source": [
    "# The default learning rate is 0.01 and no momentum is used by default.\n",
    "sgd = SGD(0.02) # is learning rate  0.02 \n",
    "model.compile(optimizer='sgd',loss='sparse_categorical_crossentropy',metrics=['accuracy'])\n",
    "#Used as a loss function for multi-class classification model where the output label is assigned integer value "
   ]
  },
  {
   "cell_type": "code",
   "execution_count": 11,
   "id": "5554e275",
   "metadata": {},
   "outputs": [
    {
     "name": "stdout",
     "output_type": "stream",
     "text": [
      "Epoch 1/5\n",
      "1875/1875 [==============================] - 4s 2ms/step - loss: 0.6497 - accuracy: 0.8393 - val_loss: 0.3540 - val_accuracy: 0.9041\n",
      "Epoch 2/5\n",
      "1875/1875 [==============================] - 3s 2ms/step - loss: 0.3364 - accuracy: 0.9064 - val_loss: 0.2926 - val_accuracy: 0.9170\n",
      "Epoch 3/5\n",
      "1875/1875 [==============================] - 3s 2ms/step - loss: 0.2876 - accuracy: 0.9195 - val_loss: 0.2617 - val_accuracy: 0.9231\n",
      "Epoch 4/5\n",
      "1875/1875 [==============================] - 3s 2ms/step - loss: 0.2574 - accuracy: 0.9276 - val_loss: 0.2371 - val_accuracy: 0.9320\n",
      "Epoch 5/5\n",
      "1875/1875 [==============================] - 3s 2ms/step - loss: 0.2346 - accuracy: 0.9341 - val_loss: 0.2229 - val_accuracy: 0.9364\n"
     ]
    }
   ],
   "source": [
    "history=model.fit(x_train,y_train,validation_data=(x_test,y_test),epochs=5)# Train the model"
   ]
  },
  {
   "cell_type": "code",
   "execution_count": 12,
   "id": "25a0b709",
   "metadata": {},
   "outputs": [
    {
     "name": "stdout",
     "output_type": "stream",
     "text": [
      "313/313 [==============================] - 0s 1ms/step - loss: 0.2229 - accuracy: 0.9364\n"
     ]
    }
   ],
   "source": [
    "test_loss,test_acc=model.evaluate(x_test,y_test)# Evaluate the model"
   ]
  },
  {
   "cell_type": "code",
   "execution_count": 15,
   "id": "df1da966",
   "metadata": {},
   "outputs": [
    {
     "name": "stdout",
     "output_type": "stream",
     "text": [
      "313/313 [==============================] - 0s 1ms/step\n",
      "4\n"
     ]
    },
    {
     "data": {
      "image/png": "[encoded data removed]",
      "text/plain": [
       "<Figure size 432x288 with 1 Axes>"
      ]
     },
     "metadata": {
      "needs_background": "light"
     },
     "output_type": "display_data"
    }
   ],
   "source": [
    "plt.imshow(x_test[4])\n",
    "prediction=model.predict(x_test)#predict the data\n",
    "print(np.argmax(prediction[4])) # print data depend on max probaiblites\n",
    "# Argmax an operation that finds the argument that gives the maximum value from a target function. "
   ]
  },
  {
   "cell_type": "code",
   "execution_count": 14,
   "id": "fcfc9556",
   "metadata": {},
   "outputs": [
    {
     "data": {
      "image/png": "[encoded data removed]",
      "text/plain": [
       "<Figure size 432x288 with 1 Axes>"
      ]
     },
     "metadata": {
      "needs_background": "light"
     },
     "output_type": "display_data"
    }
   ],
   "source": [
    "plt.plot(history.history['accuracy'])\n",
    "plt.plot(history.history['val_accuracy'])\n",
    "plt.plot(history.history['loss'])\n",
    "plt.plot(history.history['val_loss'])\n",
    "plt.title('Training loss and accuracy')\n",
    "plt.xlabel('accuracy/loss')\n",
    "plt.ylabel('epoch')\n",
    "plt.legend(['accuracy','val_accuracy','loss','val_loss'])\n",
    "plt.show()"
   ]
  },
  {
   "cell_type": "code",
   "execution_count": null,
   "id": "4a9f0372",
   "metadata": {},
   "outputs": [],
   "source": []
  }
 ],
 "metadata": {
  "kernelspec": {
   "display_name": "Python 3 (ipykernel)",
   "language": "python",
   "name": "python3"
  },
  "language_info": {
   "codemirror_mode": {
    "name": "ipython",
    "version": 3
   },
   "file_extension": ".py",
   "mimetype": "text/x-python",
   "name": "python",
   "nbconvert_exporter": "python",
   "pygments_lexer": "ipython3",
   "version": "3.9.12"
  }
 },
 "nbformat": 4,
 "nbformat_minor": 5
}
